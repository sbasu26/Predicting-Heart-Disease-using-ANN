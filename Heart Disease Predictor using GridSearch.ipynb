{
 "cells": [
  {
   "cell_type": "code",
   "execution_count": 25,
   "metadata": {},
   "outputs": [],
   "source": [
    "import numpy as np\n",
    "import pandas as pd\n",
    "\n",
    "#loading the training data\n",
    "X_train = pd .read_csv(\"train_values.csv\")\n",
    "Y_train = pd.read_csv(\"train_labels.csv\")\n",
    "\n",
    "X_train.head()\n",
    "\n",
    "Y_train.head()\n",
    "\n",
    "#Loading the test data\n",
    "X_test = pd.read_csv(\"test_values.csv\")"
   ]
  },
  {
   "cell_type": "code",
   "execution_count": 26,
   "metadata": {},
   "outputs": [],
   "source": [
    "#Selecting the relevant columns from the training and test data\n",
    "X_train = X_train.iloc[:,1:15].values\n",
    "Y_train = Y_train.iloc[:,1:].values\n",
    "X_test = X_test.iloc[:,1:15].values"
   ]
  },
  {
   "cell_type": "code",
   "execution_count": 27,
   "metadata": {},
   "outputs": [
    {
     "data": {
      "text/plain": [
       "(180, 13)"
      ]
     },
     "execution_count": 27,
     "metadata": {},
     "output_type": "execute_result"
    }
   ],
   "source": [
    "#Preprocessing the data\n",
    "\n",
    "#Encoding categorical data\n",
    "from sklearn.preprocessing import LabelEncoder, OneHotEncoder\n",
    "labelencoder_X_1 = LabelEncoder()\n",
    "X_train[:,1] = labelencoder_X_1.fit_transform(X_train[:,1])\n",
    "labelencoder_X_2 = LabelEncoder()\n",
    "X_test[:, 1] = labelencoder_X_2.fit_transform(X_test[:, 1])\n",
    "X_test.shape\n",
    "X_train.shape"
   ]
  },
  {
   "cell_type": "code",
   "execution_count": 28,
   "metadata": {},
   "outputs": [
    {
     "data": {
      "text/plain": [
       "array([[  2.,   2., 170., ...,  59., 159.,   0.],\n",
       "       [  1.,   1., 138., ...,  35., 182.,   0.],\n",
       "       [  2.,   2., 120., ...,  43., 120.,   1.],\n",
       "       ...,\n",
       "       [  1.,   1., 148., ...,  42., 178.,   0.],\n",
       "       [  2.,   1., 138., ...,  46., 152.,   1.],\n",
       "       [  1.,   1., 150., ...,  43., 171.,   0.]])"
      ]
     },
     "execution_count": 28,
     "metadata": {},
     "output_type": "execute_result"
    }
   ],
   "source": [
    "X_train.astype(float)\n",
    "X_test.astype(float)"
   ]
  },
  {
   "cell_type": "code",
   "execution_count": 31,
   "metadata": {},
   "outputs": [
    {
     "name": "stderr",
     "output_type": "stream",
     "text": [
      "C:\\Users\\Sbasu26\\Documents\\Anaconda\\envs\\deeplearning\\lib\\site-packages\\sklearn\\preprocessing\\_encoders.py:368: FutureWarning: The handling of integer data will change in version 0.22. Currently, the categories are determined based on the range [0, max(values)], while in the future they will be determined based on the unique values.\n",
      "If you want the future behaviour and silence this warning, you can specify \"categories='auto'\".\n",
      "In case you used a LabelEncoder before this OneHotEncoder to convert the categories to integers, then you can now use the OneHotEncoder directly.\n",
      "  warnings.warn(msg, FutureWarning)\n",
      "C:\\Users\\Sbasu26\\Documents\\Anaconda\\envs\\deeplearning\\lib\\site-packages\\sklearn\\preprocessing\\_encoders.py:390: DeprecationWarning: The 'categorical_features' keyword is deprecated in version 0.20 and will be removed in 0.22. You can use the ColumnTransformer instead.\n",
      "  \"use the ColumnTransformer instead.\", DeprecationWarning)\n",
      "C:\\Users\\Sbasu26\\Documents\\Anaconda\\envs\\deeplearning\\lib\\site-packages\\sklearn\\preprocessing\\_encoders.py:368: FutureWarning: The handling of integer data will change in version 0.22. Currently, the categories are determined based on the range [0, max(values)], while in the future they will be determined based on the unique values.\n",
      "If you want the future behaviour and silence this warning, you can specify \"categories='auto'\".\n",
      "In case you used a LabelEncoder before this OneHotEncoder to convert the categories to integers, then you can now use the OneHotEncoder directly.\n",
      "  warnings.warn(msg, FutureWarning)\n",
      "C:\\Users\\Sbasu26\\Documents\\Anaconda\\envs\\deeplearning\\lib\\site-packages\\sklearn\\preprocessing\\_encoders.py:390: DeprecationWarning: The 'categorical_features' keyword is deprecated in version 0.20 and will be removed in 0.22. You can use the ColumnTransformer instead.\n",
      "  \"use the ColumnTransformer instead.\", DeprecationWarning)\n"
     ]
    }
   ],
   "source": [
    "onehotencoder = OneHotEncoder(categorical_features = [1])\n",
    "X_train = onehotencoder.fit_transform(X_train).toarray()\n",
    "X_train = X_train[:, 1:]\n",
    "\n",
    "onehotencoder2 = OneHotEncoder(categorical_features = [1])\n",
    "X_test = onehotencoder2.fit_transform(X_test).toarray()\n",
    "X_test = X_test[:, 1:]"
   ]
  },
  {
   "cell_type": "code",
   "execution_count": 32,
   "metadata": {},
   "outputs": [],
   "source": [
    "from sklearn.preprocessing import StandardScaler\n",
    "sc = StandardScaler()\n",
    "X_train = sc.fit_transform(X_train)\n",
    "X_test = sc.fit_transform(X_test)"
   ]
  },
  {
   "cell_type": "code",
   "execution_count": 33,
   "metadata": {},
   "outputs": [],
   "source": [
    "from keras.wrappers.scikit_learn import KerasClassifier\n",
    "from sklearn.model_selection import GridSearchCV\n",
    "from keras.models import Sequential\n",
    "from keras.layers import Dense"
   ]
  },
  {
   "cell_type": "code",
   "execution_count": 34,
   "metadata": {},
   "outputs": [],
   "source": [
    "def build_classifier(optimizer):\n",
    "    classifier = Sequential()\n",
    "    classifier.add(Dense(units = 8, kernel_initializer = 'uniform', activation = 'relu', input_dim = 14))\n",
    "    classifier.add(Dense(units = 8, kernel_initializer = 'uniform', activation = 'relu'))\n",
    "    classifier.add(Dense(units = 1, kernel_initializer = 'uniform', activation = 'sigmoid'))\n",
    "    classifier.compile(optimizer = optimizer, loss = 'binary_crossentropy', metrics = ['accuracy'])\n",
    "    return classifier"
   ]
  },
  {
   "cell_type": "code",
   "execution_count": 41,
   "metadata": {},
   "outputs": [],
   "source": [
    "classifier = KerasClassifier(build_fn = build_classifier)\n",
    "parameters = {'batch_size' : [30, 50],\n",
    "             'nb_epoch' : [100, 500],\n",
    "             'optimizer' : ['adam', 'rmsprop']}\n",
    "grid_search = GridSearchCV(estimator = classifier,\n",
    "                          param_grid = parameters,\n",
    "                          scoring = 'accuracy',\n",
    "                          cv = 10)"
   ]
  },
  {
   "cell_type": "code",
   "execution_count": 43,
   "metadata": {},
   "outputs": [
    {
     "name": "stdout",
     "output_type": "stream",
     "text": [
      "Epoch 1/1\n",
      "162/162 [==============================] - 16s 97ms/step - loss: 0.6930 - acc: 0.5123\n",
      "Epoch 1/1\n",
      "162/162 [==============================] - 15s 93ms/step - loss: 0.6931 - acc: 0.5000\n",
      "Epoch 1/1\n",
      "162/162 [==============================] - 15s 93ms/step - loss: 0.6931 - acc: 0.5123\n",
      "Epoch 1/1\n",
      "162/162 [==============================] - 15s 92ms/step - loss: 0.6931 - acc: 0.5247\n",
      "Epoch 1/1\n",
      "162/162 [==============================] - 16s 97ms/step - loss: 0.6931 - acc: 0.5185\n",
      "Epoch 1/1\n",
      "162/162 [==============================] - 18s 110ms/step - loss: 0.6931 - acc: 0.4691\n",
      "Epoch 1/1\n",
      "162/162 [==============================] - 14s 89ms/step - loss: 0.6932 - acc: 0.4506\n",
      "Epoch 1/1\n",
      "162/162 [==============================] - 16s 98ms/step - loss: 0.6931 - acc: 0.5309\n",
      "Epoch 1/1\n",
      "162/162 [==============================] - 21s 130ms/step - loss: 0.6931 - acc: 0.5432\n",
      "Epoch 1/1\n",
      "162/162 [==============================] - 17s 105ms/step - loss: 0.6931 - acc: 0.5309\n",
      "Epoch 1/1\n",
      "162/162 [==============================] - 15s 95ms/step - loss: 0.6927 - acc: 0.5617\n",
      "Epoch 1/1\n",
      "162/162 [==============================] - 15s 94ms/step - loss: 0.6932 - acc: 0.4877\n",
      "Epoch 1/1\n",
      "162/162 [==============================] - 15s 94ms/step - loss: 0.6928 - acc: 0.5123\n",
      "Epoch 1/1\n",
      "162/162 [==============================] - 15s 94ms/step - loss: 0.6929 - acc: 0.5309\n",
      "Epoch 1/1\n",
      "162/162 [==============================] - 15s 93ms/step - loss: 0.6932 - acc: 0.4321\n",
      "Epoch 1/1\n",
      "162/162 [==============================] - 15s 93ms/step - loss: 0.6929 - acc: 0.5494\n",
      "Epoch 1/1\n",
      "162/162 [==============================] - 17s 104ms/step - loss: 0.6929 - acc: 0.5000\n",
      "Epoch 1/1\n",
      "162/162 [==============================] - 16s 97ms/step - loss: 0.6930 - acc: 0.5802\n",
      "Epoch 1/1\n",
      "162/162 [==============================] - 16s 100ms/step - loss: 0.6926 - acc: 0.5679\n",
      "Epoch 1/1\n",
      "162/162 [==============================] - 18s 108ms/step - loss: 0.6928 - acc: 0.5679\n",
      "Epoch 1/1\n",
      "162/162 [==============================] - 15s 96ms/step - loss: 0.6931 - acc: 0.5123\n",
      "Epoch 1/1\n",
      "162/162 [==============================] - 16s 98ms/step - loss: 0.6930 - acc: 0.5741\n",
      "Epoch 1/1\n",
      "162/162 [==============================] - 16s 100ms/step - loss: 0.6932 - acc: 0.4630\n",
      "Epoch 1/1\n",
      "162/162 [==============================] - 17s 102ms/step - loss: 0.6930 - acc: 0.5679\n",
      "Epoch 1/1\n",
      "162/162 [==============================] - 18s 114ms/step - loss: 0.6930 - acc: 0.5247\n",
      "Epoch 1/1\n",
      "162/162 [==============================] - 18s 108ms/step - loss: 0.6932 - acc: 0.4938\n",
      "Epoch 1/1\n",
      "162/162 [==============================] - 18s 114ms/step - loss: 0.6929 - acc: 0.5864\n",
      "Epoch 1/1\n",
      "162/162 [==============================] - 37s 230ms/step - loss: 0.6931 - acc: 0.5000\n",
      "Epoch 1/1\n",
      "162/162 [==============================] - 35s 219ms/step - loss: 0.6930 - acc: 0.5617\n",
      "Epoch 1/1\n",
      "162/162 [==============================] - 26s 159ms/step - loss: 0.6930 - acc: 0.5370\n",
      "Epoch 1/1\n",
      "162/162 [==============================] - 21s 127ms/step - loss: 0.6927 - acc: 0.5864\n",
      "Epoch 1/1\n",
      "162/162 [==============================] - 20s 123ms/step - loss: 0.6929 - acc: 0.5370\n",
      "Epoch 1/1\n",
      "162/162 [==============================] - 19s 115ms/step - loss: 0.6927 - acc: 0.5679\n",
      "Epoch 1/1\n",
      "162/162 [==============================] - 22s 134ms/step - loss: 0.6930 - acc: 0.5247\n",
      "Epoch 1/1\n",
      "162/162 [==============================] - 21s 131ms/step - loss: 0.6929 - acc: 0.5679\n",
      "Epoch 1/1\n",
      "162/162 [==============================] - 19s 118ms/step - loss: 0.6931 - acc: 0.5185\n",
      "Epoch 1/1\n",
      "162/162 [==============================] - 21s 127ms/step - loss: 0.6929 - acc: 0.5000\n",
      "Epoch 1/1\n",
      "162/162 [==============================] - 18s 113ms/step - loss: 0.6928 - acc: 0.5494\n",
      "Epoch 1/1\n",
      "162/162 [==============================] - 17s 104ms/step - loss: 0.6927 - acc: 0.5679\n",
      "Epoch 1/1\n",
      "162/162 [==============================] - 17s 108ms/step - loss: 0.6931 - acc: 0.5000\n",
      "Epoch 1/1\n",
      "162/162 [==============================] - 19s 118ms/step - loss: 0.6931 - acc: 0.5741\n",
      "Epoch 1/1\n",
      "162/162 [==============================] - 20s 125ms/step - loss: 0.6931 - acc: 0.4877\n",
      "Epoch 1/1\n",
      "162/162 [==============================] - 20s 121ms/step - loss: 0.6932 - acc: 0.4198\n",
      "Epoch 1/1\n",
      "162/162 [==============================] - 22s 135ms/step - loss: 0.6931 - acc: 0.5309\n",
      "Epoch 1/1\n",
      "162/162 [==============================] - 20s 125ms/step - loss: 0.6930 - acc: 0.5556\n",
      "Epoch 1/1\n",
      "162/162 [==============================] - 21s 128ms/step - loss: 0.6931 - acc: 0.5000\n",
      "Epoch 1/1\n",
      "162/162 [==============================] - 22s 136ms/step - loss: 0.6931 - acc: 0.5247\n",
      "Epoch 1/1\n",
      "162/162 [==============================] - 22s 139ms/step - loss: 0.6931 - acc: 0.4691\n",
      "Epoch 1/1\n",
      "162/162 [==============================] - 22s 135ms/step - loss: 0.6930 - acc: 0.5679\n",
      "Epoch 1/1\n",
      "162/162 [==============================] - 20s 124ms/step - loss: 0.6931 - acc: 0.5679\n",
      "Epoch 1/1\n",
      "162/162 [==============================] - 18s 114ms/step - loss: 0.6932 - acc: 0.4074\n",
      "Epoch 1/1\n",
      "162/162 [==============================] - 19s 115ms/step - loss: 0.6931 - acc: 0.5432\n",
      "Epoch 1/1\n",
      "162/162 [==============================] - 18s 114ms/step - loss: 0.6930 - acc: 0.5432\n",
      "Epoch 1/1\n",
      "162/162 [==============================] - 18s 112ms/step - loss: 0.6928 - acc: 0.5988\n",
      "Epoch 1/1\n",
      "162/162 [==============================] - 21s 127ms/step - loss: 0.6930 - acc: 0.4815\n",
      "Epoch 1/1\n",
      "162/162 [==============================] - 19s 115ms/step - loss: 0.6931 - acc: 0.5123\n",
      "Epoch 1/1\n",
      "162/162 [==============================] - 20s 126ms/step - loss: 0.6928 - acc: 0.5741\n",
      "Epoch 1/1\n",
      "162/162 [==============================] - 19s 117ms/step - loss: 0.6930 - acc: 0.4753\n",
      "Epoch 1/1\n",
      "162/162 [==============================] - 19s 115ms/step - loss: 0.6930 - acc: 0.5679\n",
      "Epoch 1/1\n",
      "162/162 [==============================] - 19s 115ms/step - loss: 0.6929 - acc: 0.5185\n",
      "Epoch 1/1\n",
      "162/162 [==============================] - 22s 135ms/step - loss: 0.6930 - acc: 0.5432\n",
      "Epoch 1/1\n",
      "162/162 [==============================] - 21s 127ms/step - loss: 0.6931 - acc: 0.5370\n",
      "Epoch 1/1\n",
      "162/162 [==============================] - 19s 117ms/step - loss: 0.6931 - acc: 0.5247\n",
      "Epoch 1/1\n",
      "162/162 [==============================] - 21s 129ms/step - loss: 0.6931 - acc: 0.5741\n",
      "Epoch 1/1\n",
      "162/162 [==============================] - 19s 118ms/step - loss: 0.6930 - acc: 0.5494\n",
      "Epoch 1/1\n",
      "162/162 [==============================] - 20s 125ms/step - loss: 0.6930 - acc: 0.5494\n",
      "Epoch 1/1\n",
      "162/162 [==============================] - 19s 118ms/step - loss: 0.6931 - acc: 0.5617\n",
      "Epoch 1/1\n",
      "162/162 [==============================] - 19s 120ms/step - loss: 0.6931 - acc: 0.5370\n",
      "Epoch 1/1\n",
      "162/162 [==============================] - 20s 123ms/step - loss: 0.6932 - acc: 0.4321\n",
      "Epoch 1/1\n",
      "162/162 [==============================] - 21s 131ms/step - loss: 0.6931 - acc: 0.5432\n",
      "Epoch 1/1\n",
      "162/162 [==============================] - 19s 120ms/step - loss: 0.6931 - acc: 0.4815\n",
      "Epoch 1/1\n",
      "162/162 [==============================] - 19s 119ms/step - loss: 0.6929 - acc: 0.5123\n",
      "Epoch 1/1\n",
      "162/162 [==============================] - 22s 133ms/step - loss: 0.6931 - acc: 0.5062\n",
      "Epoch 1/1\n",
      "162/162 [==============================] - 20s 121ms/step - loss: 0.6930 - acc: 0.5494\n",
      "Epoch 1/1\n",
      "162/162 [==============================] - 22s 133ms/step - loss: 0.6925 - acc: 0.5679\n",
      "Epoch 1/1\n",
      "162/162 [==============================] - 20s 125ms/step - loss: 0.6931 - acc: 0.5309\n",
      "Epoch 1/1\n",
      "162/162 [==============================] - 21s 132ms/step - loss: 0.6930 - acc: 0.5185\n",
      "Epoch 1/1\n",
      "162/162 [==============================] - 29s 181ms/step - loss: 0.6933 - acc: 0.5062\n",
      "Epoch 1/1\n",
      "162/162 [==============================] - 23s 143ms/step - loss: 0.6929 - acc: 0.5494\n",
      "Epoch 1/1\n",
      "162/162 [==============================] - 23s 140ms/step - loss: 0.6932 - acc: 0.5494\n",
      "Epoch 1/1\n",
      "180/180 [==============================] - 24s 134ms/step - loss: 0.6931 - acc: 0.5222\n"
     ]
    }
   ],
   "source": [
    "grid_search2 = grid_search.fit(X_train,Y_train)\n",
    "best_parameters = grid_search.best_params_\n",
    "best_accuracy = grid_search.best_score_"
   ]
  },
  {
   "cell_type": "code",
   "execution_count": 44,
   "metadata": {},
   "outputs": [],
   "source": [
    "#Predicting the test set results\n",
    "y_pred = grid_search.predict(X_test)"
   ]
  },
  {
   "cell_type": "code",
   "execution_count": 45,
   "metadata": {},
   "outputs": [],
   "source": [
    "prediction = (y_pred > 0.5)"
   ]
  },
  {
   "cell_type": "code",
   "execution_count": 46,
   "metadata": {},
   "outputs": [],
   "source": [
    "prediction = prediction.astype(float)"
   ]
  },
  {
   "cell_type": "code",
   "execution_count": 47,
   "metadata": {},
   "outputs": [
    {
     "data": {
      "text/plain": [
       "array([[0.],\n",
       "       [0.],\n",
       "       [0.],\n",
       "       [0.],\n",
       "       [0.],\n",
       "       [0.],\n",
       "       [0.],\n",
       "       [0.],\n",
       "       [0.],\n",
       "       [0.],\n",
       "       [0.],\n",
       "       [0.],\n",
       "       [0.],\n",
       "       [0.],\n",
       "       [0.],\n",
       "       [0.],\n",
       "       [0.],\n",
       "       [0.],\n",
       "       [0.],\n",
       "       [0.],\n",
       "       [0.],\n",
       "       [0.],\n",
       "       [0.],\n",
       "       [0.],\n",
       "       [0.],\n",
       "       [0.],\n",
       "       [0.],\n",
       "       [0.],\n",
       "       [0.],\n",
       "       [0.],\n",
       "       [0.],\n",
       "       [0.],\n",
       "       [0.],\n",
       "       [0.],\n",
       "       [0.],\n",
       "       [0.],\n",
       "       [0.],\n",
       "       [0.],\n",
       "       [0.],\n",
       "       [0.],\n",
       "       [0.],\n",
       "       [0.],\n",
       "       [0.],\n",
       "       [0.],\n",
       "       [0.],\n",
       "       [0.],\n",
       "       [0.],\n",
       "       [0.],\n",
       "       [0.],\n",
       "       [0.],\n",
       "       [0.],\n",
       "       [0.],\n",
       "       [0.],\n",
       "       [0.],\n",
       "       [0.],\n",
       "       [0.],\n",
       "       [0.],\n",
       "       [0.],\n",
       "       [0.],\n",
       "       [0.],\n",
       "       [0.],\n",
       "       [0.],\n",
       "       [0.],\n",
       "       [0.],\n",
       "       [0.],\n",
       "       [0.],\n",
       "       [0.],\n",
       "       [0.],\n",
       "       [0.],\n",
       "       [0.],\n",
       "       [0.],\n",
       "       [0.],\n",
       "       [0.],\n",
       "       [0.],\n",
       "       [0.],\n",
       "       [0.],\n",
       "       [0.],\n",
       "       [0.],\n",
       "       [0.],\n",
       "       [0.],\n",
       "       [0.],\n",
       "       [0.],\n",
       "       [0.],\n",
       "       [0.],\n",
       "       [0.],\n",
       "       [0.],\n",
       "       [0.],\n",
       "       [0.],\n",
       "       [0.],\n",
       "       [0.]])"
      ]
     },
     "execution_count": 47,
     "metadata": {},
     "output_type": "execute_result"
    }
   ],
   "source": [
    "prediction"
   ]
  },
  {
   "cell_type": "code",
   "execution_count": 48,
   "metadata": {},
   "outputs": [],
   "source": [
    "final_prediction = pd.DataFrame(data=prediction[0:,1:],    # values\n",
    "              index=prediction[0:,0],    # 1st column as index\n",
    "             columns=prediction[0,1:])"
   ]
  },
  {
   "cell_type": "code",
   "execution_count": 51,
   "metadata": {},
   "outputs": [],
   "source": [
    "final_prediction.to_csv('gridsearch_submission1.csv', sep='\\t', encoding='utf-8')"
   ]
  },
  {
   "cell_type": "code",
   "execution_count": null,
   "metadata": {},
   "outputs": [],
   "source": []
  }
 ],
 "metadata": {
  "kernelspec": {
   "display_name": "Python 3",
   "language": "python",
   "name": "python3"
  },
  "language_info": {
   "codemirror_mode": {
    "name": "ipython",
    "version": 3
   },
   "file_extension": ".py",
   "mimetype": "text/x-python",
   "name": "python",
   "nbconvert_exporter": "python",
   "pygments_lexer": "ipython3",
   "version": "3.6.6"
  }
 },
 "nbformat": 4,
 "nbformat_minor": 2
}
